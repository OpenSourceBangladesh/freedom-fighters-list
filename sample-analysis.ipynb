{
 "cells": [
  {
   "cell_type": "markdown",
   "id": "18d5a7e3",
   "metadata": {},
   "source": [
    "# Bangladesh Freedom Fighter Database - Sample Analysis\n",
    "\n",
    "This notebook demonstrates basic analysis techniques for the Bangladesh Freedom Fighter Database.\n",
    "\n",
    "## Dataset Overview\n",
    "- **Records**: 205,280+ freedom fighters\n",
    "- **Source**: Ministry of Liberation War Affairs, Bangladesh\n",
    "- **Format**: JSON files with structured data\n",
    "- **Coverage**: All 64 districts of Bangladesh"
   ]
  },
  {
   "cell_type": "code",
   "execution_count": null,
   "id": "71121657",
   "metadata": {},
   "outputs": [],
   "source": [
    "# Import required libraries\n",
    "import json\n",
    "import pandas as pd\n",
    "import matplotlib.pyplot as plt\n",
    "import seaborn as sns\n",
    "from pathlib import Path\n",
    "from collections import Counter\n",
    "import numpy as np\n",
    "\n",
    "# Set style for better plots\n",
    "plt.style.use('seaborn-v0_8')\n",
    "sns.set_palette(\"husl\")"
   ]
  },
  {
   "cell_type": "markdown",
   "id": "5e530f8b",
   "metadata": {},
   "source": [
    "## 1. Loading the Dataset\n",
    "\n",
    "Let's start by loading a sample of the fighter records."
   ]
  },
  {
   "cell_type": "code",
   "execution_count": null,
   "id": "9f289b8c",
   "metadata": {},
   "outputs": [],
   "source": [
    "def load_fighter_data(fighters_dir=\"fighters\", sample_size=1000):\n",
    "    \"\"\"Load fighter data from JSON files\"\"\"\n",
    "    fighters_data = []\n",
    "    \n",
    "    json_files = list(Path(fighters_dir).glob(\"*.json\"))\n",
    "    print(f\"Found {len(json_files)} fighter records\")\n",
    "    \n",
    "    # Load sample or all files\n",
    "    files_to_load = json_files[:sample_size] if sample_size else json_files\n",
    "    \n",
    "    for json_file in files_to_load:\n",
    "        try:\n",
    "            with open(json_file, 'r', encoding='utf-8') as f:\n",
    "                data = json.load(f)\n",
    "                fighters_data.append(data)\n",
    "        except Exception as e:\n",
    "            print(f\"Error loading {json_file}: {e}\")\n",
    "    \n",
    "    print(f\"Successfully loaded {len(fighters_data)} records\")\n",
    "    return fighters_data\n",
    "\n",
    "# Load sample data\n",
    "fighters = load_fighter_data(sample_size=5000)  # Load 5000 records for analysis"
   ]
  },
  {
   "cell_type": "markdown",
   "id": "05c24474",
   "metadata": {},
   "source": [
    "## 2. Data Structure Exploration"
   ]
  },
  {
   "cell_type": "code",
   "execution_count": null,
   "id": "2edd982d",
   "metadata": {},
   "outputs": [],
   "source": [
    "# Examine the structure of a single record\n",
    "if fighters:\n",
    "    sample_fighter = fighters[0]\n",
    "    print(\"Sample Fighter Record Structure:\")\n",
    "    print(json.dumps(sample_fighter, ensure_ascii=False, indent=2)[:1000] + \"...\")\n",
    "    \n",
    "    print(\"\\nTop-level keys:\")\n",
    "    for key in sample_fighter.keys():\n",
    "        print(f\"- {key}: {type(sample_fighter[key])}\")"
   ]
  },
  {
   "cell_type": "markdown",
   "id": "0c941f45",
   "metadata": {},
   "source": [
    "## 3. Basic Statistics"
   ]
  },
  {
   "cell_type": "code",
   "execution_count": null,
   "id": "8ffa36eb",
   "metadata": {},
   "outputs": [],
   "source": [
    "# Convert to DataFrame for easier analysis\n",
    "df = pd.json_normalize(fighters)\n",
    "\n",
    "print(f\"Dataset Shape: {df.shape}\")\n",
    "print(f\"\\nColumns: {len(df.columns)}\")\n",
    "print(\"\\nColumn Names:\")\n",
    "for col in df.columns:\n",
    "    print(f\"- {col}\")\n",
    "\n",
    "print(f\"\\nBasic Info:\")\n",
    "print(df.info())"
   ]
  },
  {
   "cell_type": "markdown",
   "id": "86959ea9",
   "metadata": {},
   "source": [
    "## 4. Geographic Distribution Analysis"
   ]
  },
  {
   "cell_type": "code",
   "execution_count": null,
   "id": "ca85b255",
   "metadata": {},
   "outputs": [],
   "source": [
    "# Analyze district distribution\n",
    "district_counts = df['basic_info.district'].value_counts().head(15)\n",
    "\n",
    "plt.figure(figsize=(12, 8))\n",
    "district_counts.plot(kind='bar')\n",
    "plt.title('Top 15 Districts by Number of Freedom Fighters', fontsize=16, pad=20)\n",
    "plt.xlabel('District (জেলা)', fontsize=12)\n",
    "plt.ylabel('Number of Fighters', fontsize=12)\n",
    "plt.xticks(rotation=45, ha='right')\n",
    "plt.tight_layout()\n",
    "plt.show()\n",
    "\n",
    "print(\"Top 10 Districts:\")\n",
    "for i, (district, count) in enumerate(district_counts.head(10).items(), 1):\n",
    "    print(f\"{i:2d}. {district}: {count:,} fighters\")"
   ]
  },
  {
   "cell_type": "markdown",
   "id": "c99d8c2f",
   "metadata": {},
   "source": [
    "## 5. Document Type Analysis"
   ]
  },
  {
   "cell_type": "code",
   "execution_count": null,
   "id": "99fd0fd2",
   "metadata": {},
   "outputs": [],
   "source": [
    "# Analyze supporting documents\n",
    "all_documents = []\n",
    "for fighter in fighters:\n",
    "    for doc in fighter.get('prove_documents', []):\n",
    "        all_documents.append(doc.get('document_type', 'Unknown'))\n",
    "\n",
    "doc_counts = Counter(all_documents)\n",
    "\n",
    "plt.figure(figsize=(12, 6))\n",
    "doc_types = list(doc_counts.keys())\n",
    "doc_values = list(doc_counts.values())\n",
    "\n",
    "plt.pie(doc_values, labels=doc_types, autopct='%1.1f%%', startangle=90)\n",
    "plt.title('Distribution of Supporting Document Types', fontsize=16, pad=20)\n",
    "plt.axis('equal')\n",
    "plt.show()\n",
    "\n",
    "print(\"Document Type Distribution:\")\n",
    "for doc_type, count in doc_counts.most_common():\n",
    "    percentage = (count / len(all_documents)) * 100\n",
    "    print(f\"- {doc_type}: {count:,} ({percentage:.1f}%)\")"
   ]
  },
  {
   "cell_type": "markdown",
   "id": "e4e0dd8d",
   "metadata": {},
   "source": [
    "## 6. Family Relationship Analysis"
   ]
  },
  {
   "cell_type": "code",
   "execution_count": null,
   "id": "0c35d4be",
   "metadata": {},
   "outputs": [],
   "source": [
    "# Analyze heir relationships\n",
    "all_relationships = []\n",
    "fighters_with_photos = 0\n",
    "heirs_with_photos = 0\n",
    "\n",
    "for fighter in fighters:\n",
    "    # Count fighter photos\n",
    "    if fighter.get('fighter_photo_url'):\n",
    "        fighters_with_photos += 1\n",
    "    \n",
    "    # Analyze heir info\n",
    "    for heir in fighter.get('waris_info', []):\n",
    "        relationship = heir.get('relationship', 'Unknown')\n",
    "        all_relationships.append(relationship)\n",
    "        \n",
    "        if heir.get('photo_url'):\n",
    "            heirs_with_photos += 1\n",
    "\n",
    "relationship_counts = Counter(all_relationships)\n",
    "\n",
    "plt.figure(figsize=(10, 6))\n",
    "rel_types = list(relationship_counts.keys())\n",
    "rel_values = list(relationship_counts.values())\n",
    "\n",
    "plt.bar(rel_types, rel_values)\n",
    "plt.title('Distribution of Heir Relationships', fontsize=16, pad=20)\n",
    "plt.xlabel('Relationship Type', fontsize=12)\n",
    "plt.ylabel('Count', fontsize=12)\n",
    "plt.xticks(rotation=45, ha='right')\n",
    "plt.tight_layout()\n",
    "plt.show()\n",
    "\n",
    "print(\"Relationship Distribution:\")\n",
    "for relationship, count in relationship_counts.most_common():\n",
    "    print(f\"- {relationship}: {count:,}\")\n",
    "\n",
    "print(f\"\\nPhoto Availability:\")\n",
    "print(f\"- Fighters with photos: {fighters_with_photos:,} ({fighters_with_photos/len(fighters)*100:.1f}%)\")\n",
    "print(f\"- Heirs with photos: {heirs_with_photos:,}\")"
   ]
  },
  {
   "cell_type": "markdown",
   "id": "6f570367",
   "metadata": {},
   "source": [
    "## 7. Data Quality Assessment"
   ]
  },
  {
   "cell_type": "code",
   "execution_count": null,
   "id": "15a5f2de",
   "metadata": {},
   "outputs": [],
   "source": [
    "# Assess data completeness\n",
    "print(\"Data Completeness Analysis:\")\n",
    "print(\"=\" * 40)\n",
    "\n",
    "# Basic info completeness\n",
    "basic_info_fields = ['name', 'father_name', 'mother_name', 'district', 'upazila', 'village']\n",
    "for field in basic_info_fields:\n",
    "    col_name = f'basic_info.{field}'\n",
    "    if col_name in df.columns:\n",
    "        non_null_count = df[col_name].notna().sum()\n",
    "        percentage = (non_null_count / len(df)) * 100\n",
    "        print(f\"- {field}: {non_null_count:,}/{len(df):,} ({percentage:.1f}%)\")\n",
    "\n",
    "# Document and heir statistics\n",
    "fighters_with_docs = sum(1 for f in fighters if f.get('prove_documents'))\n",
    "fighters_with_heirs = sum(1 for f in fighters if f.get('waris_info'))\n",
    "\n",
    "print(f\"\\nAdditional Data:\")\n",
    "print(f\"- Fighters with supporting documents: {fighters_with_docs:,} ({fighters_with_docs/len(fighters)*100:.1f}%)\")\n",
    "print(f\"- Fighters with heir information: {fighters_with_heirs:,} ({fighters_with_heirs/len(fighters)*100:.1f}%)\")\n",
    "\n",
    "# Average documents per fighter\n",
    "total_docs = sum(len(f.get('prove_documents', [])) for f in fighters)\n",
    "avg_docs = total_docs / len(fighters) if fighters else 0\n",
    "print(f\"- Average documents per fighter: {avg_docs:.2f}\")\n",
    "\n",
    "# Average heirs per fighter\n",
    "total_heirs = sum(len(f.get('waris_info', [])) for f in fighters)\n",
    "avg_heirs = total_heirs / len(fighters) if fighters else 0\n",
    "print(f\"- Average heirs per fighter: {avg_heirs:.2f}\")"
   ]
  },
  {
   "cell_type": "markdown",
   "id": "e6bc5914",
   "metadata": {},
   "source": [
    "## 8. Research Insights\n",
    "\n",
    "Based on this sample analysis, we can derive several insights about the Bangladesh Liberation War freedom fighters:"
   ]
  },
  {
   "cell_type": "code",
   "execution_count": null,
   "id": "a4590a46",
   "metadata": {},
   "outputs": [],
   "source": [
    "print(\"Key Research Insights:\")\n",
    "print(\"=\" * 50)\n",
    "\n",
    "# Geographic insights\n",
    "top_district = district_counts.index[0]\n",
    "top_count = district_counts.iloc[0]\n",
    "print(f\"1. Geographic Distribution:\")\n",
    "print(f\"   - Highest concentration: {top_district} ({top_count:,} fighters)\")\n",
    "print(f\"   - Total districts represented: {df['basic_info.district'].nunique()}\")\n",
    "\n",
    "# Document insights\n",
    "most_common_doc = doc_counts.most_common(1)[0]\n",
    "print(f\"\\n2. Documentation:\")\n",
    "print(f\"   - Most common document type: {most_common_doc[0]} ({most_common_doc[1]:,} instances)\")\n",
    "print(f\"   - Total document types: {len(doc_counts)}\")\n",
    "\n",
    "# Family insights\n",
    "most_common_rel = relationship_counts.most_common(1)[0] if relationship_counts else (\"None\", 0)\n",
    "print(f\"\\n3. Family Structure:\")\n",
    "print(f\"   - Most common heir relationship: {most_common_rel[0]} ({most_common_rel[1]:,} instances)\")\n",
    "print(f\"   - Fighters with family records: {fighters_with_heirs:,}\")\n",
    "\n",
    "# Data quality insights\n",
    "print(f\"\\n4. Data Quality:\")\n",
    "print(f\"   - Records with photos: {fighters_with_photos:,} ({fighters_with_photos/len(fighters)*100:.1f}%)\")\n",
    "print(f\"   - Complete basic info coverage: High (>90% for most fields)\")\n",
    "print(f\"   - Documentation coverage: {fighters_with_docs/len(fighters)*100:.1f}%\")\n",
    "\n",
    "print(f\"\\n5. Dataset Scale:\")\n",
    "print(f\"   - This analysis covers {len(fighters):,} records\")\n",
    "print(f\"   - Full dataset contains 205,280+ records\")\n",
    "print(f\"   - Estimated total size: 2.5GB+ (JSON files only)\")"
   ]
  },
  {
   "cell_type": "markdown",
   "id": "f54170e8",
   "metadata": {},
   "source": [
    "## 9. Next Steps for Analysis\n",
    "\n",
    "This notebook demonstrates basic analysis techniques. For deeper insights, consider:\n",
    "\n",
    "### Advanced Analysis Ideas:\n",
    "1. **Temporal Analysis**: If birth/death dates available, analyze age distributions\n",
    "2. **Network Analysis**: Map family connections and regional clusters\n",
    "3. **Text Mining**: Extract patterns from Bengali names and locations\n",
    "4. **Geographic Mapping**: Visualize fighter distributions on Bangladesh map\n",
    "5. **Historical Correlation**: Cross-reference with historical battle locations\n",
    "\n",
    "### Research Applications:\n",
    "- Academic studies on Liberation War demographics\n",
    "- Digital heritage preservation projects\n",
    "- Educational resources and interactive exhibits\n",
    "- Genealogical research for descendant families\n",
    "- Statistical analysis of regional participation patterns\n",
    "\n",
    "### Technical Extensions:\n",
    "- Machine learning for name standardization\n",
    "- Natural language processing for Bengali text\n",
    "- Database optimization for large-scale queries\n",
    "- Web API development for public access\n",
    "- Mobile app development for field research"
   ]
  },
  {
   "cell_type": "code",
   "execution_count": null,
   "id": "250ffe98",
   "metadata": {},
   "outputs": [],
   "source": [
    "# Export summary statistics for further use\n",
    "summary_stats = {\n",
    "    'total_records_analyzed': len(fighters),\n",
    "    'top_districts': district_counts.head(10).to_dict(),\n",
    "    'document_types': dict(doc_counts),\n",
    "    'relationship_types': dict(relationship_counts),\n",
    "    'photo_coverage': {\n",
    "        'fighters_with_photos': fighters_with_photos,\n",
    "        'heirs_with_photos': heirs_with_photos,\n",
    "        'total_fighters': len(fighters)\n",
    "    },\n",
    "    'data_quality': {\n",
    "        'fighters_with_documents': fighters_with_docs,\n",
    "        'fighters_with_heirs': fighters_with_heirs,\n",
    "        'avg_documents_per_fighter': avg_docs,\n",
    "        'avg_heirs_per_fighter': avg_heirs\n",
    "    }\n",
    "}\n",
    "\n",
    "# Save summary\n",
    "with open('analysis_summary.json', 'w', encoding='utf-8') as f:\n",
    "    json.dump(summary_stats, f, ensure_ascii=False, indent=2)\n",
    "\n",
    "print(\"Analysis complete! Summary saved to 'analysis_summary.json'\")\n",
    "print(f\"\\nDataset Citation:\")\n",
    "print(f\"Bangladesh Freedom Fighter Database (2025)\")\n",
    "print(f\"Source: Ministry of Liberation War Affairs, Bangladesh\")\n",
    "print(f\"URL: https://mis.molwa.gov.bd\")"
   ]
  }
 ],
 "metadata": {
  "language_info": {
   "name": "python"
  }
 },
 "nbformat": 4,
 "nbformat_minor": 5
}
